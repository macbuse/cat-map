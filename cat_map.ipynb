{
 "cells": [
  {
   "cell_type": "code",
   "execution_count": 1,
   "metadata": {
    "collapsed": true
   },
   "outputs": [],
   "source": [
    "import numpy as np"
   ]
  },
  {
   "cell_type": "markdown",
   "metadata": {},
   "source": [
    "We begin by calculating all the coordinates in the (square) image\n",
    "and cache them. <br>\n",
    "C/java-programmers will complain that this  is not  memory efficient but with the price  of RAM  as it is - who cares ?"
   ]
  },
  {
   "cell_type": "code",
   "execution_count": 229,
   "metadata": {},
   "outputs": [],
   "source": [
    "sx = 512\n",
    "\n",
    "x = np.array(range(sx))\n",
    "y = np.array(range(sx))\n",
    "xx, yy = np.meshgrid(x, y)"
   ]
  },
  {
   "cell_type": "markdown",
   "metadata": {},
   "source": [
    " now set up the mapping\n",
    " - calculate the coordinates of the image pixel in the new image \n",
    " - it's easier to flatten the image \n",
    " \n",
    " and cache these in index_map."
   ]
  },
  {
   "cell_type": "code",
   "execution_count": 240,
   "metadata": {},
   "outputs": [],
   "source": [
    "#do the coordinate change\n",
    "u = (5*xx + 3*yy) % sx\n",
    "v = (3*xx + 2*yy) % sx\n",
    "\n",
    "#use masks to correct for negative values\n",
    "u[u<0] += sx\n",
    "v[v<0] += sx\n",
    "\n",
    "index_map = sx*u + v\n"
   ]
  },
  {
   "cell_type": "markdown",
   "metadata": {},
   "source": [
    "- import the usual stuff to read in an image as an ndarray.\n",
    "- we'll use **skimage** but there are lots of different ways\n",
    "of doing this\n"
   ]
  },
  {
   "cell_type": "code",
   "execution_count": 244,
   "metadata": {},
   "outputs": [],
   "source": [
    "import skimage.io\n",
    "#change 'batman copy.png' to whatever your file name is\n",
    "im = skimage.io.imread('batman copy.png')\n",
    "#im = scipy.ndimage.imread('amy.jpg')"
   ]
  },
  {
   "cell_type": "code",
   "execution_count": 245,
   "metadata": {},
   "outputs": [
    {
     "data": {
      "text/plain": [
       "(512, 512, 4)"
      ]
     },
     "execution_count": 245,
     "metadata": {},
     "output_type": "execute_result"
    }
   ],
   "source": [
    "im.shape"
   ]
  },
  {
   "cell_type": "markdown",
   "metadata": {},
   "source": [
    "\n",
    "- flatten the image so that we can apply the map\n",
    "- rescale the color  values to 0 < < 1 \n",
    "otherwise **imsave** complains"
   ]
  },
  {
   "cell_type": "code",
   "execution_count": 241,
   "metadata": {},
   "outputs": [],
   "source": [
    "#maybe should find a better way avoiding the transpose\n",
    "rgb_layers = [x.flatten()/255. for x in im.transpose()[:3] ] "
   ]
  },
  {
   "cell_type": "markdown",
   "metadata": {},
   "source": [
    "- appying the map is trivial now \n",
    "- this uses **fancy** indexes instead of ndarray.take()"
   ]
  },
  {
   "cell_type": "code",
   "execution_count": 242,
   "metadata": {},
   "outputs": [],
   "source": [
    "rgb_layers = [x[index_map] for x in rgb_layers]"
   ]
  },
  {
   "cell_type": "markdown",
   "metadata": {},
   "source": [
    "FInally restore the shape of the image and save "
   ]
  },
  {
   "cell_type": "code",
   "execution_count": 243,
   "metadata": {},
   "outputs": [],
   "source": [
    "#create an empty array\n",
    "new_im = np.zeros((sx,sx,3))\n",
    "for i,x in enumerate(rgb_layers):\n",
    "    new_im[:,:,i] = x.reshape((sx,sx))\n",
    "\n",
    "skimage.io.imsave('tt.png', \n",
    "                  new_im, \n",
    "                  plugin=None)"
   ]
  },
  {
   "cell_type": "code",
   "execution_count": null,
   "metadata": {
    "collapsed": true
   },
   "outputs": [],
   "source": []
  }
 ],
 "metadata": {
  "kernelspec": {
   "display_name": "Python 2",
   "language": "python",
   "name": "python2"
  },
  "language_info": {
   "codemirror_mode": {
    "name": "ipython",
    "version": 2
   },
   "file_extension": ".py",
   "mimetype": "text/x-python",
   "name": "python",
   "nbconvert_exporter": "python",
   "pygments_lexer": "ipython2",
   "version": "2.7.13"
  }
 },
 "nbformat": 4,
 "nbformat_minor": 2
}
