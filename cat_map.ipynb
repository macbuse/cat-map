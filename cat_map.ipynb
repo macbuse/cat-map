{
 "cells": [
  {
   "cell_type": "code",
   "execution_count": 1,
   "metadata": {
    "collapsed": true
   },
   "outputs": [],
   "source": [
    "import numpy as np"
   ]
  },
  {
   "cell_type": "markdown",
   "metadata": {},
   "source": [
    "calculate all the coordinates in the (square) image"
   ]
  },
  {
   "cell_type": "code",
   "execution_count": 133,
   "metadata": {},
   "outputs": [],
   "source": [
    "sx = 512\n",
    "\n",
    "x = np.array(range(sx))\n",
    "y = np.array(range(sx))\n",
    "xx, yy = np.meshgrid(x, y)"
   ]
  },
  {
   "cell_type": "markdown",
   "metadata": {},
   "source": [
    " - calculate the coordinates of the image pixel in the new image \n",
    " - it's easier to flatten the image "
   ]
  },
  {
   "cell_type": "code",
   "execution_count": 134,
   "metadata": {},
   "outputs": [],
   "source": [
    "#do the coordinate change\n",
    "u = (2*xx + yy) % sx\n",
    "v = (xx + yy) % sx\n",
    "\n",
    "#use masks \n",
    "u[u<0] += sx\n",
    "v[v<0] += sx\n",
    "\n",
    "index_map = sx*u + v\n"
   ]
  },
  {
   "cell_type": "markdown",
   "metadata": {},
   "source": [
    "import the usual stuff to read in an image as an ndarray"
   ]
  },
  {
   "cell_type": "code",
   "execution_count": 135,
   "metadata": {},
   "outputs": [],
   "source": [
    "import scipy \n",
    "import scipy.ndimage\n",
    "import skimage.io\n",
    "\n",
    "#im = scipy.ndimage.imread('batman.png', flatten=True)\n",
    "im = scipy.ndimage.imread('amy.jpg', flatten=True)"
   ]
  },
  {
   "cell_type": "markdown",
   "metadata": {},
   "source": [
    "- flatten the image so that we can apply the map\n",
    "- rescale the color  values to 0 < < 1 \n",
    "otherwise **imsave** complains"
   ]
  },
  {
   "cell_type": "code",
   "execution_count": 136,
   "metadata": {},
   "outputs": [],
   "source": [
    "im = im.flatten()/255"
   ]
  },
  {
   "cell_type": "markdown",
   "metadata": {},
   "source": [
    "- appying the map is trivial now \n",
    "- this uses **fancy** indexes instead of ndarray.take()"
   ]
  },
  {
   "cell_type": "code",
   "execution_count": 137,
   "metadata": {},
   "outputs": [],
   "source": [
    "new_im = im[index_map]"
   ]
  },
  {
   "cell_type": "markdown",
   "metadata": {},
   "source": [
    "FInally restore the shape of the image and save "
   ]
  },
  {
   "cell_type": "code",
   "execution_count": 138,
   "metadata": {},
   "outputs": [],
   "source": [
    "new_im = new_im.reshape((sx,sx))\n",
    "skimage.io.imsave('tt.png', new_im, plugin=None)"
   ]
  }
 ],
 "metadata": {
  "kernelspec": {
   "display_name": "Python 2",
   "language": "python",
   "name": "python2"
  },
  "language_info": {
   "codemirror_mode": {
    "name": "ipython",
    "version": 2
   },
   "file_extension": ".py",
   "mimetype": "text/x-python",
   "name": "python",
   "nbconvert_exporter": "python",
   "pygments_lexer": "ipython2",
   "version": "2.7.13"
  }
 },
 "nbformat": 4,
 "nbformat_minor": 2
}
